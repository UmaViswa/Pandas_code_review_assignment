{
 "cells": [
  {
   "cell_type": "markdown",
   "metadata": {},
   "source": [
    "__Quantile__"
   ]
  },
  {
   "cell_type": "code",
   "execution_count": 35,
   "metadata": {},
   "outputs": [],
   "source": [
    "import numpy as np\n",
    "import statsmodels.api as sm\n",
    "import pylab"
   ]
  },
  {
   "cell_type": "code",
   "execution_count": 36,
   "metadata": {},
   "outputs": [
    {
     "data": {
      "image/png": "[encoded data removed]",
      "text/plain": [
       "<Figure size 432x288 with 1 Axes>"
      ]
     },
     "metadata": {
      "needs_background": "light"
     },
     "output_type": "display_data"
    }
   ],
   "source": [
    "test = np.random.normal(20,5,1000)\n",
    "sm.qqplot(test, loc=20, scale= 5,line ='45')\n",
    "pylab.show()"
   ]
  },
  {
   "cell_type": "markdown",
   "metadata": {},
   "source": [
    "__1. Explain why the points don’t lie on the line y=x__\n",
    "\n",
    "A Q-Q plot is a scatterplot created by plotting two sets of quantiles against one another. If both sets of quantiles came from the same distribution, we should see the points forming a line that’s roughly straight.Both Qs stand for “quantile.”\n",
    "\n",
    "\n",
    "A quantile is a slice of a dataset such that each slice contains the same amount of data. Imagine you have a sorted dataset of integers. \n",
    "\n",
    "\n",
    "If you specify that your dataset has two quantiles, then the first 50% of your dataset is in the first quantile (all of the integers from the minimum integer to the median integer) and then the last 50% of your dataset is in the second quantile (all of the integers from the median integer to the maximum integer). \n",
    "\n",
    "You may be more familiar with percentiles, in which case you’re slicing a dataset into 100 parts of equal size. If you’ve ever taken a region-wide exam you may have read in your results that “you scored in the 87th percentile,” meaning that you earned a higher score than 87% of test takers.\n",
    "\n",
    "A Q-Q plot compares the quantiles of a dataset and a set of theoretical quantiles from a probability distribution. Therefore a Q-Q plot is trying to answer the question: “How similar are the quantiles in my dataset compared to what the quantiles of my dataset would be if my dataset followed a theoretical probability distribution?”In a Q-Q plot each data point in your dataset is put in its own quantile, then a data point is generated from the corresponding theoretical quantile.\n",
    "\n",
    "The points in the Q-Q plot does not form a straight line since the quantiles of the dataset does not match what the quantiles of the dataset would theoretically be if the dataset was normally distributed.The points in the Q-Q plot form a relatively straight line since the quantiles of the dataset nearly match what the quantiles of the dataset would theoretically be if the dataset was normally distributed.\n"
   ]
  },
  {
   "cell_type": "markdown",
   "metadata": {},
   "source": [
    "__2. Explain in your own words what is standard error of the mean (refer to the respective page here).__\n"
   ]
  },
  {
   "cell_type": "markdown",
   "metadata": {},
   "source": [
    "__The standard error of the mean__\n",
    "\n",
    "The standard error of the mean, also called the standard deviation of the mean, is a method used to estimate the standard deviation of a sampling distribution. \n",
    "Example:\n",
    "As an example, consider an experiment that measures the speed of sound in a material along the three directions (along x, y and z coordinates). By taking the mean of these values, we can get the average speed of sound in this medium.\n",
    "\n",
    "However, there are so many external factors that can influence the speed of sound, like small temperature variations, the reaction time of the stopwatch, pressure changes in the laboratory, wind velocity changes, and other random errors. Thus instead of taking the mean with one measurement, we should instead take several measurements and take a mean each time. This is a sampling distribution. The standard error of the mean now refers to the change in mean with different experiments conducted each time.\n",
    "\n",
    "Mathematically, the standard error of the mean formula is given by:\n",
    "\n",
    "\n",
    "Standard Error of the Mean\n",
    "$$\\sigma_M=\\frac{\\sigma}{\\sqrt{N}}$$<br>\n",
    "\n",
    "    σM = standard error of the mean\n",
    "\n",
    "    σ = the standard deviation of the original distribution\n",
    "\n",
    "    N = the sample size\n",
    "\n",
    "    √N = root of the sample size\n",
    "    \n",
    "It can be seen from the formula that the standard error of the mean decreases as N increases. This is expected because if the mean at each step is calculated using many data points, then a small deviation in one value will cause less effect on the final mean.\n",
    "\n",
    "The standard error of the mean tells us how the mean varies with different experiments measuring the same quantity. Thus if the effect of random changes are significant, then the standard error of the mean will be higher. If there is no change in the data points as experiments are repeated, then the standard error of mean is zero.\n"
   ]
  },
  {
   "cell_type": "markdown",
   "metadata": {},
   "source": [
    "3.Simulate SEM example using NumPy"
   ]
  },
  {
   "cell_type": "code",
   "execution_count": 51,
   "metadata": {},
   "outputs": [
    {
     "data": {
      "text/plain": [
       "0.045072330330672414"
      ]
     },
     "execution_count": 51,
     "metadata": {},
     "output_type": "execute_result"
    }
   ],
   "source": [
    "import numpy as np\n",
    "x=np.random.rand(20)\n",
    "standard_deviation=(np.std(x)/np.sqrt(len(x)))\n",
    "standard_deviation"
   ]
  },
  {
   "cell_type": "code",
   "execution_count": null,
   "metadata": {},
   "outputs": [],
   "source": []
  }
 ],
 "metadata": {
  "kernelspec": {
   "display_name": "Python 3",
   "language": "python",
   "name": "python3"
  },
  "language_info": {
   "codemirror_mode": {
    "name": "ipython",
    "version": 3
   },
   "file_extension": ".py",
   "mimetype": "text/x-python",
   "name": "python",
   "nbconvert_exporter": "python",
   "pygments_lexer": "ipython3",
   "version": "3.7.3"
  }
 },
 "nbformat": 4,
 "nbformat_minor": 2
}
